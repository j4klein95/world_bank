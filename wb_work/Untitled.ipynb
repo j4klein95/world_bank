{
 "cells": [
  {
   "cell_type": "code",
   "execution_count": 4,
   "metadata": {
    "collapsed": true
   },
   "outputs": [],
   "source": [
    "import json\n",
    "import os\n",
    "import numpy as np\n",
    "import pandas as pd\n",
    "import requests as req\n"
   ]
  },
  {
   "cell_type": "code",
   "execution_count": 5,
   "metadata": {},
   "outputs": [],
   "source": [
    "request = req.get(\"http://api.worldbank.org/v2/countries/CIV/indicators/DT.ODA.ODAT.CD?format=json\").json()"
   ]
  },
  {
   "cell_type": "code",
   "execution_count": 6,
   "metadata": {},
   "outputs": [],
   "source": [
    "request_countries = req.get('http://api.worldbank.org/v2/countries?format=json').json()"
   ]
  },
  {
   "cell_type": "code",
   "execution_count": 9,
   "metadata": {
    "collapsed": true
   },
   "outputs": [],
   "source": [
    "country_list = []\n",
    "for i in range(1, 7):\n",
    "    request_country_iso = req.get(\"http://api.worldbank.org/v2/countries?format=json&page=%s\" %(i)).json()\n",
    "    country_list.append(request_country_iso)"
   ]
  },
  {
   "cell_type": "code",
   "execution_count": 10,
   "metadata": {},
   "outputs": [
    {
     "data": {
      "text/plain": [
       "'CN'"
      ]
     },
     "execution_count": 10,
     "metadata": {},
     "output_type": "execute_result"
    }
   ],
   "source": [
    "country_info = {}\n"
   ]
  },
  {
   "cell_type": "code",
   "execution_count": 11,
   "metadata": {},
   "outputs": [],
   "source": [
    "iso_codes = []\n",
    "name = []"
   ]
  },
  {
   "cell_type": "code",
   "execution_count": 12,
   "metadata": {},
   "outputs": [],
   "source": [
    "for i in range(len(country_list)):\n",
    "    for j in range(0, 49):\n",
    "        iso_codes.append(country_list[i][1][j]['iso2Code'])\n",
    "        name.append(country_list[i][1][j]['name'])\n",
    "        "
   ]
  },
  {
   "cell_type": "code",
   "execution_count": 13,
   "metadata": {},
   "outputs": [],
   "source": [
    "country_info = dict(zip(name, iso_codes))"
   ]
  },
  {
   "cell_type": "code",
   "execution_count": 78,
   "metadata": {},
   "outputs": [
    {
     "name": "stdout",
     "output_type": "stream",
     "text": [
      "What country are you looking for?Marshall Islands\n"
     ]
    }
   ],
   "source": [
    "country = input(\"What country are you looking for?\")"
   ]
  },
  {
   "cell_type": "code",
   "execution_count": 79,
   "metadata": {},
   "outputs": [
    {
     "name": "stdout",
     "output_type": "stream",
     "text": [
      "In 2017 Marshall Islands had None in net official development assistance received (Current US$).\n",
      "In 2016 Marshall Islands had None in net official development assistance received (Current US$).\n",
      "In 2015 Marshall Islands had 57060000 in net official development assistance received (Current US$).\n",
      "In 2014 Marshall Islands had 55700000 in net official development assistance received (Current US$).\n",
      "In 2013 Marshall Islands had 93740000 in net official development assistance received (Current US$).\n",
      "In 2012 Marshall Islands had 83850000 in net official development assistance received (Current US$).\n"
     ]
    }
   ],
   "source": [
    "#def wb_find_data(country):\n",
    "for name, iso_codes in country_info.items():\n",
    "    if country == name:\n",
    "        ref = iso_codes\n",
    "        request = req.get(\"http://api.worldbank.org/v2/countries/%s/indicators/DT.ODA.ODAT.CD?format=json\" %(ref)).json()\n",
    "        for i in range(0, 6):\n",
    "            print(\"In \" + str(request[1][i]['date']) + \" \" + str(country) + \" had \" + str(request[1][i]['value']) + \" in net official development assistance received (Current US$).\")\n",
    "                #print(request[1][i]['value'])\n",
    "            "
   ]
  },
  {
   "cell_type": "code",
   "execution_count": null,
   "metadata": {},
   "outputs": [],
   "source": []
  },
  {
   "cell_type": "code",
   "execution_count": null,
   "metadata": {},
   "outputs": [],
   "source": []
  },
  {
   "cell_type": "code",
   "execution_count": null,
   "metadata": {
    "collapsed": true
   },
   "outputs": [],
   "source": []
  }
 ],
 "metadata": {
  "kernelspec": {
   "display_name": "Python [conda env:PythonData]",
   "language": "python",
   "name": "conda-env-PythonData-py"
  },
  "language_info": {
   "codemirror_mode": {
    "name": "ipython",
    "version": 3
   },
   "file_extension": ".py",
   "mimetype": "text/x-python",
   "name": "python",
   "nbconvert_exporter": "python",
   "pygments_lexer": "ipython3",
   "version": "3.6.3"
  }
 },
 "nbformat": 4,
 "nbformat_minor": 2
}
